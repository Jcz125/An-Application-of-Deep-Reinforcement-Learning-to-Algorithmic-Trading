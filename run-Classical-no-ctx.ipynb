{
 "cells": [
  {
   "cell_type": "code",
   "execution_count": null,
   "metadata": {},
   "outputs": [],
   "source": [
    "%matplotlib inline\n",
    "%load_ext autoreload\n",
    "%autoreload 2\n",
    "\n",
    "import matplotlib\n",
    "import matplotlib.pyplot as plt\n",
    "from tradingSimulator import TradingSimulator\n",
    "\n",
    "matplotlib.rcParams['figure.figsize'] = (20.0, 10.0)\n",
    "matplotlib.rcParams['interactive'] = True"
   ]
  },
  {
   "cell_type": "code",
   "execution_count": null,
   "metadata": {},
   "outputs": [],
   "source": [
    "# Initialization of the required variables\n",
    "stocks = [\"AAPL\", \"TSLA\"]\n",
    "money = 10_000\n",
    "\n",
    "# Plotting settings\n",
    "trainShowPerformance = True \n",
    "trainPlot = True\n",
    "plotTrainEnv = True\n",
    "interactiveTest = False\n",
    "testShowPerformance = True\n",
    "testPlotQValues = True\n",
    "testOnLiveData = False\n",
    "trainTestRendering = False\n",
    "saveStrategy = False\n",
    "withContext = False\n",
    "\n",
    "# Init simulator instance\n",
    "simulator = TradingSimulator()"
   ]
  },
  {
   "cell_type": "code",
   "execution_count": null,
   "metadata": {},
   "outputs": [],
   "source": [
    "strategy = \"Buy and Hold\"\n",
    "\n",
    "for stock in stocks:\n",
    "    # Training and testing of the trading strategy specified for the stock (market) specified\n",
    "    tradingStrategy, trainingEnv, testingEnv = simulator.simulateNewStrategy(\n",
    "        strategy, \n",
    "        stock,\n",
    "        money=money,\n",
    "        interactiveTrain=False, \n",
    "        trainShowPerformance=trainShowPerformance, \n",
    "        trainPlot=trainPlot, \n",
    "        plotTrainEnv=plotTrainEnv,\n",
    "        interactiveTest=interactiveTest,\n",
    "        testShowPerformance=testShowPerformance,\n",
    "        testPlotQValues=testPlotQValues,\n",
    "        testOnLiveData=testOnLiveData,\n",
    "        trainTestRendering=False,\n",
    "        saveStrategy=True,\n",
    "        withContext=withContext\n",
    "    )"
   ]
  },
  {
   "cell_type": "code",
   "execution_count": null,
   "metadata": {},
   "outputs": [],
   "source": [
    "strategy = \"Sell and Hold\"\n",
    "\n",
    "for stock in stocks:\n",
    "    # Training and testing of the trading strategy specified for the stock (market) specified\n",
    "    tradingStrategy, trainingEnv, testingEnv = simulator.simulateNewStrategy(\n",
    "        strategy, \n",
    "        stock,\n",
    "        money=money,\n",
    "        interactiveTrain=False, \n",
    "        trainShowPerformance=trainShowPerformance, \n",
    "        trainPlot=trainPlot, \n",
    "        plotTrainEnv=plotTrainEnv,\n",
    "        interactiveTest=interactiveTest,\n",
    "        testShowPerformance=testShowPerformance,\n",
    "        testPlotQValues=testPlotQValues,\n",
    "        testOnLiveData=testOnLiveData,\n",
    "        trainTestRendering=False,\n",
    "        saveStrategy=True,\n",
    "        withContext=withContext\n",
    "    )"
   ]
  },
  {
   "cell_type": "code",
   "execution_count": null,
   "metadata": {},
   "outputs": [],
   "source": [
    "strategy = \"Trend Following Moving Averages\"\n",
    "\n",
    "for stock in stocks:\n",
    "    # Training and testing of the trading strategy specified for the stock (market) specified\n",
    "    tradingStrategy, trainingEnv, testingEnv = simulator.simulateNewStrategy(\n",
    "        strategy, \n",
    "        stock,\n",
    "        money=money,\n",
    "        interactiveTrain=False, \n",
    "        trainShowPerformance=trainShowPerformance, \n",
    "        trainPlot=trainPlot, \n",
    "        plotTrainEnv=plotTrainEnv,\n",
    "        interactiveTest=interactiveTest,\n",
    "        testShowPerformance=testShowPerformance,\n",
    "        testPlotQValues=testPlotQValues,\n",
    "        testOnLiveData=testOnLiveData,\n",
    "        trainTestRendering=False,\n",
    "        saveStrategy=True,\n",
    "        withContext=withContext\n",
    "    )"
   ]
  },
  {
   "cell_type": "code",
   "execution_count": null,
   "metadata": {},
   "outputs": [],
   "source": [
    "strategy = \"Mean Reversion Moving Averages\"\n",
    "\n",
    "for stock in stocks:\n",
    "    # Training and testing of the trading strategy specified for the stock (market) specified\n",
    "    tradingStrategy, trainingEnv, testingEnv = simulator.simulateNewStrategy(\n",
    "        strategy, \n",
    "        stock,\n",
    "        money=money,\n",
    "        interactiveTrain=False, \n",
    "        trainShowPerformance=trainShowPerformance, \n",
    "        trainPlot=trainPlot, \n",
    "        plotTrainEnv=plotTrainEnv,\n",
    "        interactiveTest=interactiveTest,\n",
    "        testShowPerformance=testShowPerformance,\n",
    "        testPlotQValues=testPlotQValues,\n",
    "        testOnLiveData=testOnLiveData,\n",
    "        trainTestRendering=False,\n",
    "        saveStrategy=True,\n",
    "        withContext=withContext\n",
    "    )"
   ]
  }
 ],
 "metadata": {
  "kernelspec": {
   "display_name": "Python 3 (ipykernel)",
   "language": "python",
   "name": "python3"
  },
  "language_info": {
   "codemirror_mode": {
    "name": "ipython",
    "version": 3
   },
   "file_extension": ".py",
   "mimetype": "text/x-python",
   "name": "python",
   "nbconvert_exporter": "python",
   "pygments_lexer": "ipython3",
   "version": "3.11.2"
  }
 },
 "nbformat": 4,
 "nbformat_minor": 2
}
