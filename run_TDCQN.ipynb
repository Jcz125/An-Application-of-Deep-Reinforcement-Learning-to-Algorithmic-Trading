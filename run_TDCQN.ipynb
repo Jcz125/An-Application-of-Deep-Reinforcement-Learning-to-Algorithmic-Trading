{
 "cells": [
  {
   "cell_type": "code",
   "execution_count": null,
   "metadata": {},
   "outputs": [],
   "source": [
    "%matplotlib inline\n",
    "%load_ext autoreload\n",
    "%autoreload 2\n",
    "\n",
    "import matplotlib\n",
    "import matplotlib.pyplot as plt\n",
    "from tradingSimulator import TradingSimulator\n",
    "\n",
    "matplotlib.rcParams['figure.figsize'] = (20.0, 10.0)\n",
    "matplotlib.rcParams['interactive'] = True"
   ]
  },
  {
   "cell_type": "code",
   "execution_count": null,
   "metadata": {},
   "outputs": [],
   "source": [
    "# Initialization of the required variables\n",
    "stocks = [\"AAPL\", \"TSLA\"]\n",
    "money = 100000\n",
    "\n",
    "# Plotting settings\n",
    "trainShowPerformance = True \n",
    "trainPlot = True\n",
    "plotTrainEnv = True\n",
    "interactiveTest = False\n",
    "testShowPerformance = True\n",
    "testPlotQValues = True\n",
    "testOnLiveData = False\n",
    "trainTestRendering = False\n",
    "saveStrategy = True\n",
    "blockTypes = ['linear', 'attention', 'conv']\n",
    "\n",
    "# Init simulator instance\n",
    "simulator = TradingSimulator()"
   ]
  },
  {
   "cell_type": "code",
   "execution_count": null,
   "metadata": {},
   "outputs": [],
   "source": [
    "strategy = \"TDCQN\"\n",
    "\n",
    "for stock in stocks:\n",
    "    for blockType in blockTypes:\n",
    "        # Training and testing of the trading strategy specified for the stock (market) specified\n",
    "        tradingStrategy, trainingEnv, testingEnv = simulator.simulateNewStrategy(\n",
    "            strategy, \n",
    "            stock,\n",
    "            money=money,\n",
    "            interactiveTrain=False, \n",
    "            trainShowPerformance=trainShowPerformance, \n",
    "            trainPlot=trainPlot, \n",
    "            plotTrainEnv=plotTrainEnv,\n",
    "            interactiveTest=interactiveTest,\n",
    "            testShowPerformance=testShowPerformance,\n",
    "            testPlotQValues=testPlotQValues,\n",
    "            testOnLiveData=testOnLiveData,\n",
    "            trainTestRendering=trainTestRendering,\n",
    "            saveStrategy=saveStrategy,\n",
    "            blockType=blockType\n",
    "        )"
   ]
  }
 ],
 "metadata": {
  "language_info": {
   "name": "python"
  },
  "orig_nbformat": 4
 },
 "nbformat": 4,
 "nbformat_minor": 2
}
