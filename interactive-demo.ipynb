{
 "cells": [
  {
   "cell_type": "code",
   "execution_count": null,
   "metadata": {},
   "outputs": [],
   "source": [
    "%matplotlib inline\n",
    "%load_ext autoreload\n",
    "%autoreload 2\n",
    "\n",
    "import matplotlib\n",
    "import matplotlib.pyplot as plt\n",
    "from tradingSimulator import TradingSimulator\n",
    "from DRL.TDQN import *\n",
    "from DRL.TDRQN import *\n",
    "from DRL.PPO import *\n",
    "\n",
    "matplotlib.rcParams['figure.figsize'] = (20.0, 10.0)\n",
    "matplotlib.rcParams['interactive'] = True"
   ]
  },
  {
   "cell_type": "code",
   "execution_count": null,
   "metadata": {},
   "outputs": [],
   "source": [
    "stocks = [\"AAPL\", \"TSLA\"]\n",
    "startingDate = '2012-1-1'\n",
    "endingDate = '2020-1-1'\n",
    "splitingDate = '2018-1-1'\n",
    "numberOfEpisodes = 50\n",
    "stateLength = 30\n",
    "money = 10000\n",
    "actionSpace = 2\n",
    "stateLength = 30\n",
    "observationSpace = 1 + (stateLength-1)*4\n",
    "percentageCosts = [0, 0.1, 0.2]\n",
    "transactionCosts = percentageCosts[1]/100\n",
    "\n",
    "# Plotting settings\n",
    "trainShowPerformance = True \n",
    "trainPlot = True\n",
    "plotTrainEnv = True\n",
    "interactiveTest = True\n",
    "testShowPerformance = True\n",
    "testPlotQValues = True\n",
    "testOnLiveData = False\n",
    "\n",
    "# Init simulator instance\n",
    "simulator = TradingSimulator()"
   ]
  },
  {
   "cell_type": "code",
   "execution_count": null,
   "metadata": {},
   "outputs": [],
   "source": [
    "stock = simulator.getStock(stocks[0])\n",
    "\n",
    "tradingStrategy = TDQN(observationSpace, actionSpace)\n",
    "tradingStrategy.loadModel(f\"Models/vanilla_TDQN_{stock}.model\")\n",
    "\n",
    "trainingEnv = TradingEnv(stock, startingDate, splitingDate, money, stateLength, transactionCosts)\n",
    "testingEnv = TradingEnv(stock, splitingDate, endingDate, money, stateLength, transactionCosts, liveData=testOnLiveData)\n",
    "\n",
    "testingEnv = tradingStrategy.testing(trainingEnv,\n",
    "                                     testingEnv,\n",
    "                                     rendering=DisplayOption(False, testPlotQValues, False),\n",
    "                                     showPerformance=testShowPerformance,\n",
    "                                     interactiveTradingGraph=interactiveTest)"
   ]
  },
  {
   "cell_type": "code",
   "execution_count": null,
   "metadata": {},
   "outputs": [],
   "source": [
    "stock = simulator.getStock(stocks[1])\n",
    "\n",
    "tradingStrategy = TDQN(observationSpace, actionSpace)\n",
    "tradingStrategy.loadModel(f\"Models/vanilla_TDQN_{stock}.model\")\n",
    "\n",
    "trainingEnv = TradingEnv(stock, startingDate, splitingDate, money, stateLength, transactionCosts)\n",
    "testingEnv = TradingEnv(stock, splitingDate, endingDate, money, stateLength, transactionCosts, liveData=testOnLiveData)\n",
    "\n",
    "testingEnv = tradingStrategy.testing(trainingEnv,\n",
    "                                     testingEnv,\n",
    "                                     rendering=DisplayOption(False, testPlotQValues, False),\n",
    "                                     showPerformance=testShowPerformance,\n",
    "                                     interactiveTradingGraph=interactiveTest)"
   ]
  },
  {
   "cell_type": "code",
   "execution_count": null,
   "metadata": {},
   "outputs": [],
   "source": [
    "stock = simulator.getStock(stocks[0])\n",
    "\n",
    "tradingStrategy = PPO(observationSpace, actionSpace)\n",
    "tradingStrategy.loadModel(f\"Models/vanilla_PPO_{stock}.model\")\n",
    "\n",
    "trainingEnv = TradingEnv(stock, startingDate, splitingDate, money, stateLength, transactionCosts)\n",
    "testingEnv = TradingEnv(stock, splitingDate, endingDate, money, stateLength, transactionCosts, liveData=testOnLiveData)\n",
    "\n",
    "testingEnv = tradingStrategy.testing(trainingEnv,\n",
    "                                     testingEnv,\n",
    "                                     rendering=DisplayOption(False, testPlotQValues, False),\n",
    "                                     showPerformance=testShowPerformance,\n",
    "                                     interactiveTradingGraph=interactiveTest)"
   ]
  },
  {
   "cell_type": "code",
   "execution_count": null,
   "metadata": {},
   "outputs": [],
   "source": [
    "stock = simulator.getStock(stocks[1])\n",
    "\n",
    "tradingStrategy = PPO(observationSpace, actionSpace)\n",
    "tradingStrategy.loadModel(f\"Models/vanilla_PPO_{stock}.model\")\n",
    "\n",
    "trainingEnv = TradingEnv(stock, startingDate, splitingDate, money, stateLength, transactionCosts)\n",
    "testingEnv = TradingEnv(stock, splitingDate, endingDate, money, stateLength, transactionCosts, liveData=testOnLiveData)\n",
    "\n",
    "testingEnv = tradingStrategy.testing(trainingEnv,\n",
    "                                     testingEnv,\n",
    "                                     rendering=DisplayOption(False, testPlotQValues, False),\n",
    "                                     showPerformance=testShowPerformance,\n",
    "                                     interactiveTradingGraph=interactiveTest)"
   ]
  }
 ],
 "metadata": {
  "kernelspec": {
   "display_name": "Python 3 (ipykernel)",
   "language": "python",
   "name": "python3"
  },
  "language_info": {
   "codemirror_mode": {
    "name": "ipython",
    "version": 3
   },
   "file_extension": ".py",
   "mimetype": "text/x-python",
   "name": "python",
   "nbconvert_exporter": "python",
   "pygments_lexer": "ipython3",
   "version": "3.10.9"
  }
 },
 "nbformat": 4,
 "nbformat_minor": 2
}
